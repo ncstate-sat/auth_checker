{
 "cells": [
  {
   "cell_type": "code",
   "execution_count": 1,
   "id": "e860f5c8-732f-4e30-92b9-588a6f582965",
   "metadata": {},
   "outputs": [
    {
     "data": {
      "text/plain": [
       "PosixPath('/home/jmgibso3/ncstate/projects/auth-service-mirror/notebooks')"
      ]
     },
     "execution_count": 1,
     "metadata": {},
     "output_type": "execute_result"
    }
   ],
   "source": [
    "import os, sys\n",
    "from pathlib import Path\n",
    "PROJECTPATH = Path(\".\").parent.absolute()\n",
    "sys.path.insert(0, PROJECTPATH)\n",
    "PROJECTPATH"
   ]
  },
  {
   "cell_type": "code",
   "execution_count": 290,
   "id": "1b0c3e30",
   "metadata": {},
   "outputs": [],
   "source": [
    "from datetime import timedelta, datetime\n",
    "from dateutil.tz import *\n",
    "from google.oauth2 import service_account\n",
    "from google.auth.transport.requests import AuthorizedSession\n",
    "from google.auth import crypt, jwt\n",
    "from auth_service.models.account import Account\n",
    "import base64\n",
    "from pathlib import Path\n",
    "import json\n",
    "import requests"
   ]
  },
  {
   "cell_type": "code",
   "execution_count": 296,
   "id": "9c6623c3",
   "metadata": {},
   "outputs": [],
   "source": [
    "def convert_dt_to_milliseconds(dt):\n",
    "    return int(dt.timestamp())"
   ]
  },
  {
   "cell_type": "code",
   "execution_count": 297,
   "id": "5439b6f3",
   "metadata": {},
   "outputs": [],
   "source": [
    "SERVICE_ACCOUNT_FILE = 'authentication-test-354015-c7e6ec34b7eb.json'"
   ]
  },
  {
   "cell_type": "code",
   "execution_count": 298,
   "id": "9be1c589",
   "metadata": {},
   "outputs": [
    {
     "name": "stdout",
     "output_type": "stream",
     "text": [
      "iat: 2023-06-29 09:03:45.187022\n",
      "exp: 2023-06-29 13:05:45.187104\n"
     ]
    }
   ],
   "source": [
    "service_account = json.load(Path(SERVICE_ACCOUNT_FILE).open('rb'))\n",
    "signed_email = service_account[\"client_email\"]\n",
    "iat = datetime.now().timestamp()\n",
    "exp = (datetime.utcnow() + timedelta(minutes=2)).timestamp()\n",
    "payload = {\n",
    "    'email': signed_email, \n",
    "    'iat': iat,\n",
    "    'exp': exp,\n",
    "}\n",
    "print(f\"iat: {datetime.fromtimestamp(iat)}\\nexp: {datetime.fromtimestamp(exp)}\")"
   ]
  },
  {
   "cell_type": "code",
   "execution_count": 299,
   "id": "6bacfb11",
   "metadata": {},
   "outputs": [
    {
     "data": {
      "text/plain": [
       "dict"
      ]
     },
     "execution_count": 299,
     "metadata": {},
     "output_type": "execute_result"
    }
   ],
   "source": [
    "signer = crypt.RSASigner.from_service_account_info(service_account)\n",
    "encoded = jwt.encode(signer, payload)\n",
    "unverified_claims = jwt.decode(encoded, verify=False)\n",
    "type(unverified_claims)"
   ]
  },
  {
   "cell_type": "code",
   "execution_count": 300,
   "id": "ad8c21d1",
   "metadata": {},
   "outputs": [
    {
     "data": {
      "text/plain": [
       "dict"
      ]
     },
     "execution_count": 300,
     "metadata": {},
     "output_type": "execute_result"
    }
   ],
   "source": [
    "certs = requests.get(now_a_dict[\"client_x509_cert_url\"])\n",
    "public_certs = json.loads(certs.content)\n",
    "claims = jwt.decode(encoded, certs=public_certs)"
   ]
  }
 ],
 "metadata": {
  "kernelspec": {
   "display_name": "Python 3 (ipykernel)",
   "language": "python",
   "name": "python3"
  },
  "language_info": {
   "codemirror_mode": {
    "name": "ipython",
    "version": 3
   },
   "file_extension": ".py",
   "mimetype": "text/x-python",
   "name": "python",
   "nbconvert_exporter": "python",
   "pygments_lexer": "ipython3",
   "version": "3.10.4"
  }
 },
 "nbformat": 4,
 "nbformat_minor": 5
}
