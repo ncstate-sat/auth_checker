{
 "cells": [
  {
   "cell_type": "code",
   "execution_count": 1,
   "id": "4133719d-348c-4c40-9633-8f65b1c265f6",
   "metadata": {
    "ExecuteTime": {
     "end_time": "2024-05-30T17:29:05.251866Z",
     "start_time": "2024-05-30T17:29:05.242909Z"
    }
   },
   "outputs": [
    {
     "data": {
      "text/plain": [
       "PosixPath('/home/jmgibso3/ncstate/projects/auth_checker')"
      ]
     },
     "execution_count": 1,
     "metadata": {},
     "output_type": "execute_result"
    }
   ],
   "source": [
    "import os, sys\n",
    "from pathlib import Path\n",
    "PROJECTPATH = Path(\".\").cwd().parent.absolute()\n",
    "sys.path.insert(0, PROJECTPATH)\n",
    "os.chdir(PROJECTPATH)\n",
    "PROJECTPATH"
   ]
  },
  {
   "cell_type": "code",
   "execution_count": 2,
   "id": "9181a77a-3110-4281-80a0-87581a819144",
   "metadata": {
    "ExecuteTime": {
     "end_time": "2024-05-30T17:29:19.140146Z",
     "start_time": "2024-05-30T17:29:18.238995Z"
    }
   },
   "outputs": [],
   "source": [
    "from auth_checker.authz.authorizer import Authorizer"
   ]
  },
  {
   "cell_type": "code",
   "execution_count": 3,
   "id": "9fc69041-5bd9-43dc-9164-56e986d8a0f5",
   "metadata": {
    "ExecuteTime": {
     "end_time": "2024-05-30T17:22:12.320965Z",
     "start_time": "2024-05-30T17:22:09.420914Z"
    }
   },
   "outputs": [],
   "source": [
    "authz = Authorizer()"
   ]
  },
  {
   "cell_type": "code",
   "execution_count": 4,
   "id": "7d4cf136-ffa2-43d9-b5c1-46004d86ef1c",
   "metadata": {},
   "outputs": [],
   "source": [
    "def set_policy(e, sub, obj=None, act=None, group=None):\n",
    "    if group:\n",
    "        return e.enforcer.add_role_for_user(sub, group)\n",
    "    return e.enforcer.add_policy(sub, obj, act)"
   ]
  },
  {
   "cell_type": "code",
   "execution_count": 13,
   "id": "f743a574-2061-4ba7-96fd-b5cdfc1dcfe1",
   "metadata": {},
   "outputs": [
    {
     "data": {
      "text/plain": [
       "True"
      ]
     },
     "execution_count": 13,
     "metadata": {},
     "output_type": "execute_result"
    }
   ],
   "source": [
    "set_policy(authz, 'staff', 'liaison', 'read')"
   ]
  },
  {
   "cell_type": "code",
   "execution_count": 14,
   "id": "803cc50d-768f-4d24-8123-67423860cfe0",
   "metadata": {
    "ExecuteTime": {
     "end_time": "2024-05-30T17:22:14.278072Z",
     "start_time": "2024-05-30T17:22:14.268752Z"
    }
   },
   "outputs": [
    {
     "data": {
      "text/plain": [
       "True"
      ]
     },
     "execution_count": 14,
     "metadata": {},
     "output_type": "execute_result"
    }
   ],
   "source": [
    "set_policy(authz, 'staff', 'liaison', 'write')"
   ]
  },
  {
   "cell_type": "code",
   "execution_count": 15,
   "id": "6ac7c301-432e-4b03-a615-681d52289853",
   "metadata": {
    "ExecuteTime": {
     "end_time": "2024-05-30T17:22:48.224618Z",
     "start_time": "2024-05-30T17:22:48.216486Z"
    }
   },
   "outputs": [
    {
     "data": {
      "text/plain": [
       "True"
      ]
     },
     "execution_count": 15,
     "metadata": {},
     "output_type": "execute_result"
    }
   ],
   "source": [
    "set_policy(authz, 'jmgibso3@ncsu.edu', group='staff')"
   ]
  },
  {
   "cell_type": "code",
   "execution_count": 5,
   "id": "469b8de7-d0b2-40bf-a2a9-4a3b4e621ad5",
   "metadata": {
    "ExecuteTime": {
     "end_time": "2024-05-30T17:22:40.413267Z",
     "start_time": "2024-05-30T17:22:40.408666Z"
    }
   },
   "outputs": [
    {
     "data": {
      "text/plain": [
       "['staff']"
      ]
     },
     "execution_count": 5,
     "metadata": {},
     "output_type": "execute_result"
    }
   ],
   "source": [
    "authz.roles_for_user('jmgibso3@ncsu.edu')"
   ]
  },
  {
   "cell_type": "code",
   "execution_count": null,
   "id": "7b9991b0-0b84-4603-8259-0fca286c3aa1",
   "metadata": {},
   "outputs": [],
   "source": []
  }
 ],
 "metadata": {
  "kernelspec": {
   "display_name": "Python 3 (ipykernel)",
   "language": "python",
   "name": "python3"
  },
  "language_info": {
   "codemirror_mode": {
    "name": "ipython",
    "version": 3
   },
   "file_extension": ".py",
   "mimetype": "text/x-python",
   "name": "python",
   "nbconvert_exporter": "python",
   "pygments_lexer": "ipython3",
   "version": "3.11.2"
  }
 },
 "nbformat": 4,
 "nbformat_minor": 5
}
