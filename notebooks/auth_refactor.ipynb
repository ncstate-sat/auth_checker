{
 "cells": [
  {
   "cell_type": "code",
   "id": "4133719d-348c-4c40-9633-8f65b1c265f6",
   "metadata": {
    "ExecuteTime": {
     "end_time": "2024-05-30T17:29:05.251866Z",
     "start_time": "2024-05-30T17:29:05.242909Z"
    }
   },
   "source": [
    "import os, sys\n",
    "from pathlib import Path\n",
    "PROJECTPATH = Path(\".\").cwd().parent.absolute()\n",
    "sys.path.insert(0, PROJECTPATH)\n",
    "os.chdir(PROJECTPATH)\n",
    "PROJECTPATH"
   ],
   "outputs": [
    {
     "data": {
      "text/plain": [
       "PosixPath('/home/jmgibso3/ncstate/projects/auth_checker')"
      ]
     },
     "execution_count": 1,
     "metadata": {},
     "output_type": "execute_result"
    }
   ],
   "execution_count": 1
  },
  {
   "cell_type": "code",
   "id": "9181a77a-3110-4281-80a0-87581a819144",
   "metadata": {
    "ExecuteTime": {
     "end_time": "2024-05-30T17:29:19.140146Z",
     "start_time": "2024-05-30T17:29:18.238995Z"
    }
   },
   "source": "from auth_checker.authz.authorizer import Authorizer",
   "outputs": [
    {
     "ename": "KeyError",
     "evalue": "None",
     "output_type": "error",
     "traceback": [
      "\u001B[0;31m---------------------------------------------------------------------------\u001B[0m",
      "\u001B[0;31mKeyError\u001B[0m                                  Traceback (most recent call last)",
      "Cell \u001B[0;32mIn[2], line 1\u001B[0m\n\u001B[0;32m----> 1\u001B[0m \u001B[38;5;28;01mfrom\u001B[39;00m \u001B[38;5;21;01mauth_checker\u001B[39;00m\u001B[38;5;21;01m.\u001B[39;00m\u001B[38;5;21;01mauthz\u001B[39;00m\u001B[38;5;21;01m.\u001B[39;00m\u001B[38;5;21;01mauthorizer\u001B[39;00m \u001B[38;5;28;01mimport\u001B[39;00m Authorizer\n",
      "File \u001B[0;32m~/ncstate/projects/auth_checker/auth_checker/__init__.py:24\u001B[0m\n\u001B[1;32m     16\u001B[0m     \u001B[38;5;28;01mreturn\u001B[39;00m pkgutil\u001B[38;5;241m.\u001B[39miter_modules(ns_pkg\u001B[38;5;241m.\u001B[39m__path__, ns_pkg\u001B[38;5;241m.\u001B[39m\u001B[38;5;18m__name__\u001B[39m \u001B[38;5;241m+\u001B[39m \u001B[38;5;124m\"\u001B[39m\u001B[38;5;124m.\u001B[39m\u001B[38;5;124m\"\u001B[39m)\n\u001B[1;32m     19\u001B[0m discovered_plugins \u001B[38;5;241m=\u001B[39m {\n\u001B[1;32m     20\u001B[0m     name: importlib\u001B[38;5;241m.\u001B[39mimport_module(name)\n\u001B[1;32m     21\u001B[0m     \u001B[38;5;28;01mfor\u001B[39;00m finder, name, ispkg \u001B[38;5;129;01min\u001B[39;00m iter_namespace(auth_checker\u001B[38;5;241m.\u001B[39mplugins\u001B[38;5;241m.\u001B[39mauthorize)\n\u001B[1;32m     22\u001B[0m }\n\u001B[0;32m---> 24\u001B[0m authorizer \u001B[38;5;241m=\u001B[39m \u001B[43mAuthorizer\u001B[49m\u001B[43m(\u001B[49m\u001B[43m)\u001B[49m\n",
      "File \u001B[0;32m~/ncstate/projects/auth_checker/auth_checker/authz/authorizer.py:11\u001B[0m, in \u001B[0;36mAuthorizer.__new__\u001B[0;34m(cls, *args, **kwargs)\u001B[0m\n\u001B[1;32m      9\u001B[0m \u001B[38;5;28;01mfor\u001B[39;00m k, v \u001B[38;5;129;01min\u001B[39;00m AuthorizerPluginRegistry\u001B[38;5;241m.\u001B[39mget_registry()\u001B[38;5;241m.\u001B[39mitems():\n\u001B[1;32m     10\u001B[0m     \u001B[38;5;28;01mif\u001B[39;00m authorizer \u001B[38;5;241m==\u001B[39m v\u001B[38;5;241m.\u001B[39mname:\n\u001B[0;32m---> 11\u001B[0m         \u001B[38;5;28;01mreturn\u001B[39;00m \u001B[43mv\u001B[49m\u001B[43m(\u001B[49m\u001B[38;5;241;43m*\u001B[39;49m\u001B[43margs\u001B[49m\u001B[43m,\u001B[49m\u001B[43m \u001B[49m\u001B[38;5;241;43m*\u001B[39;49m\u001B[38;5;241;43m*\u001B[39;49m\u001B[43mkwargs\u001B[49m\u001B[43m)\u001B[49m\n",
      "File \u001B[0;32m~/ncstate/projects/auth_checker/auth_checker/plugins/authorize/casbin_pl.py:60\u001B[0m, in \u001B[0;36mCasbinAuthorizer.__init__\u001B[0;34m(self, *args, **kwargs)\u001B[0m\n\u001B[1;32m     59\u001B[0m \u001B[38;5;28;01mdef\u001B[39;00m \u001B[38;5;21m__init__\u001B[39m(\u001B[38;5;28mself\u001B[39m, \u001B[38;5;241m*\u001B[39margs, \u001B[38;5;241m*\u001B[39m\u001B[38;5;241m*\u001B[39mkwargs):\n\u001B[0;32m---> 60\u001B[0m     adapter \u001B[38;5;241m=\u001B[39m kwargs\u001B[38;5;241m.\u001B[39mget(\u001B[38;5;124m\"\u001B[39m\u001B[38;5;124madapter\u001B[39m\u001B[38;5;124m\"\u001B[39m, \u001B[43mADAPTER_MAP\u001B[49m\u001B[43m[\u001B[49m\u001B[43mCASBIN_AUTHORIZER_POLICY_ADAPTER\u001B[49m\u001B[43m]\u001B[49m())\n\u001B[1;32m     61\u001B[0m     \u001B[38;5;28mself\u001B[39m\u001B[38;5;241m.\u001B[39menforcer \u001B[38;5;241m=\u001B[39m casbin\u001B[38;5;241m.\u001B[39mEnforcer(model\u001B[38;5;241m=\u001B[39mmodel, adapter\u001B[38;5;241m=\u001B[39madapter, enable_log\u001B[38;5;241m=\u001B[39m\u001B[38;5;28;01mTrue\u001B[39;00m)\n\u001B[1;32m     62\u001B[0m     \u001B[38;5;28msuper\u001B[39m()\u001B[38;5;241m.\u001B[39m\u001B[38;5;21m__init__\u001B[39m(\u001B[38;5;241m*\u001B[39margs, \u001B[38;5;241m*\u001B[39m\u001B[38;5;241m*\u001B[39mkwargs)\n",
      "\u001B[0;31mKeyError\u001B[0m: None"
     ]
    }
   ],
   "execution_count": 2
  },
  {
   "cell_type": "code",
   "id": "9fc69041-5bd9-43dc-9164-56e986d8a0f5",
   "metadata": {
    "ExecuteTime": {
     "end_time": "2024-05-30T17:22:12.320965Z",
     "start_time": "2024-05-30T17:22:09.420914Z"
    }
   },
   "source": "authz = Authorizer()",
   "outputs": [
    {
     "name": "stderr",
     "output_type": "stream",
     "text": [
      "2024-05-30 13:22:12,314 jmgibso3 < (clearance_dev, clearance_admin), clearance_dev < clearance_admin, jtchampi < clearance_liaison, dgreen < clearance_admin\n"
     ]
    }
   ],
   "execution_count": 3
  },
  {
   "cell_type": "code",
   "id": "803cc50d-768f-4d24-8123-67423860cfe0",
   "metadata": {
    "ExecuteTime": {
     "end_time": "2024-05-30T17:22:14.278072Z",
     "start_time": "2024-05-30T17:22:14.268752Z"
    }
   },
   "source": "type(authz)",
   "outputs": [
    {
     "data": {
      "text/plain": [
       "auth_checker.plugins.authorize.casbin_pl.CasbinAuthorizer"
      ]
     },
     "execution_count": 4,
     "metadata": {},
     "output_type": "execute_result"
    }
   ],
   "execution_count": 4
  },
  {
   "cell_type": "code",
   "id": "6ac7c301-432e-4b03-a615-681d52289853",
   "metadata": {
    "ExecuteTime": {
     "end_time": "2024-05-30T17:22:48.224618Z",
     "start_time": "2024-05-30T17:22:48.216486Z"
    }
   },
   "source": "authz.enforcer.enforce('jmgibso3', 'clearance', 'assume')",
   "outputs": [
    {
     "name": "stderr",
     "output_type": "stream",
     "text": [
      "2024-05-30 13:22:48,219 Request: jmgibso3, clearance, assume ---> True\n"
     ]
    },
    {
     "data": {
      "text/plain": [
       "True"
      ]
     },
     "execution_count": 7,
     "metadata": {},
     "output_type": "execute_result"
    }
   ],
   "execution_count": 7
  },
  {
   "cell_type": "code",
   "id": "469b8de7-d0b2-40bf-a2a9-4a3b4e621ad5",
   "metadata": {
    "ExecuteTime": {
     "end_time": "2024-05-30T17:22:40.413267Z",
     "start_time": "2024-05-30T17:22:40.408666Z"
    }
   },
   "source": "authz.enforcer.get_implicit_permissions_for_user(\"jmgibso3\")",
   "outputs": [
    {
     "data": {
      "text/plain": [
       "[['clearance_dev', 'clearance', 'assume'],\n",
       " ['clearance_admin', 'clearance', 'read'],\n",
       " ['clearance_admin', 'clearance', 'write']]"
      ]
     },
     "execution_count": 6,
     "metadata": {},
     "output_type": "execute_result"
    }
   ],
   "execution_count": 6
  }
 ],
 "metadata": {
  "kernelspec": {
   "display_name": "Python 3 (ipykernel)",
   "language": "python",
   "name": "python3"
  },
  "language_info": {
   "codemirror_mode": {
    "name": "ipython",
    "version": 3
   },
   "file_extension": ".py",
   "mimetype": "text/x-python",
   "name": "python",
   "nbconvert_exporter": "python",
   "pygments_lexer": "ipython3",
   "version": "3.11.2"
  }
 },
 "nbformat": 4,
 "nbformat_minor": 5
}
