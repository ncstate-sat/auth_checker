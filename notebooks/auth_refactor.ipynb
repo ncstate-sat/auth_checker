{
 "cells": [
  {
   "cell_type": "code",
   "execution_count": 1,
   "id": "4133719d-348c-4c40-9633-8f65b1c265f6",
   "metadata": {},
   "outputs": [
    {
     "data": {
      "text/plain": [
       "PosixPath('/home/jmgibso3/ncstate/projects/auth_checker')"
      ]
     },
     "execution_count": 1,
     "metadata": {},
     "output_type": "execute_result"
    }
   ],
   "source": [
    "import os, sys\n",
    "from pathlib import Path\n",
    "PROJECTPATH = Path(\".\").cwd().parent.absolute()\n",
    "sys.path.insert(0, PROJECTPATH)\n",
    "os.chdir(PROJECTPATH)\n",
    "PROJECTPATH"
   ]
  },
  {
   "cell_type": "code",
   "execution_count": 3,
   "id": "9181a77a-3110-4281-80a0-87581a819144",
   "metadata": {},
   "outputs": [],
   "source": [
    "from auth_checker.util.authorizer import Authorizer"
   ]
  },
  {
   "cell_type": "code",
   "execution_count": 4,
   "id": "9fc69041-5bd9-43dc-9164-56e986d8a0f5",
   "metadata": {},
   "outputs": [
    {
     "name": "stderr",
     "output_type": "stream",
     "text": [
      "2024-05-03 08:26:10,972 jmgibso3 < (clearance_dev, clearance_admin), clearance_dev < clearance_admin, jtchampi < clearance_liaison, dgreen < clearance_admin\n"
     ]
    }
   ],
   "source": [
    "auth = Authorizer()"
   ]
  },
  {
   "cell_type": "code",
   "execution_count": 5,
   "id": "803cc50d-768f-4d24-8123-67423860cfe0",
   "metadata": {},
   "outputs": [
    {
     "data": {
      "text/plain": [
       "auth_checker.plugins.authorize.casbin_pl.CasbinAuthorizer"
      ]
     },
     "execution_count": 5,
     "metadata": {},
     "output_type": "execute_result"
    }
   ],
   "source": [
    "type(auth)"
   ]
  },
  {
   "cell_type": "code",
   "execution_count": 9,
   "id": "6ac7c301-432e-4b03-a615-681d52289853",
   "metadata": {},
   "outputs": [
    {
     "name": "stderr",
     "output_type": "stream",
     "text": [
      "2024-05-03 08:40:04,869 Request: jmgibso3, clearance, assume ---> True\n"
     ]
    },
    {
     "data": {
      "text/plain": [
       "True"
      ]
     },
     "execution_count": 9,
     "metadata": {},
     "output_type": "execute_result"
    }
   ],
   "source": [
    "auth.enforcer.enforce('jmgibso3', 'clearance', 'assume')"
   ]
  },
  {
   "cell_type": "code",
   "execution_count": 8,
   "id": "469b8de7-d0b2-40bf-a2a9-4a3b4e621ad5",
   "metadata": {},
   "outputs": [
    {
     "data": {
      "text/plain": [
       "[['clearance_dev', 'clearance', 'assume'],\n",
       " ['clearance_admin', 'clearance', 'read'],\n",
       " ['clearance_admin', 'clearance', 'write']]"
      ]
     },
     "execution_count": 8,
     "metadata": {},
     "output_type": "execute_result"
    }
   ],
   "source": [
    "auth.enforcer.get_implicit_permissions_for_user(\"jmgibso3\")"
   ]
  },
  {
   "cell_type": "code",
   "execution_count": 8,
   "id": "03df724e-7e06-4b9f-a596-3d661df3dc28",
   "metadata": {},
   "outputs": [],
   "source": []
  },
  {
   "cell_type": "code",
   "execution_count": null,
   "id": "93ef4fc0-de97-4357-9098-40529ba2b6d7",
   "metadata": {},
   "outputs": [],
   "source": []
  }
 ],
 "metadata": {
  "kernelspec": {
   "display_name": "Python 3 (ipykernel)",
   "language": "python",
   "name": "python3"
  },
  "language_info": {
   "codemirror_mode": {
    "name": "ipython",
    "version": 3
   },
   "file_extension": ".py",
   "mimetype": "text/x-python",
   "name": "python",
   "nbconvert_exporter": "python",
   "pygments_lexer": "ipython3",
   "version": "3.11.2"
  }
 },
 "nbformat": 4,
 "nbformat_minor": 5
}
