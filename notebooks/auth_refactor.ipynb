{
 "cells": [
  {
   "cell_type": "code",
   "execution_count": 1,
   "id": "4133719d-348c-4c40-9633-8f65b1c265f6",
   "metadata": {
    "ExecuteTime": {
     "end_time": "2024-05-30T17:29:05.251866Z",
     "start_time": "2024-05-30T17:29:05.242909Z"
    }
   },
   "outputs": [
    {
     "data": {
      "text/plain": [
       "PosixPath('/home/jmgibso3/ncstate/projects/auth_checker')"
      ]
     },
     "execution_count": 1,
     "metadata": {},
     "output_type": "execute_result"
    }
   ],
   "source": [
    "import os, sys\n",
    "from pathlib import Path\n",
    "PROJECTPATH = Path(\".\").cwd().parent.absolute()\n",
    "sys.path.insert(0, PROJECTPATH)\n",
    "os.chdir(PROJECTPATH)\n",
    "PROJECTPATH"
   ]
  },
  {
   "cell_type": "code",
   "execution_count": 2,
   "id": "9181a77a-3110-4281-80a0-87581a819144",
   "metadata": {
    "ExecuteTime": {
     "end_time": "2024-05-30T17:29:19.140146Z",
     "start_time": "2024-05-30T17:29:18.238995Z"
    }
   },
   "outputs": [],
   "source": [
    "from auth_checker.authz.authorizer import Authorizer"
   ]
  },
  {
   "cell_type": "code",
   "execution_count": 3,
   "id": "9fc69041-5bd9-43dc-9164-56e986d8a0f5",
   "metadata": {
    "ExecuteTime": {
     "end_time": "2024-05-30T17:22:12.320965Z",
     "start_time": "2024-05-30T17:22:09.420914Z"
    }
   },
   "outputs": [],
   "source": [
    "authz = Authorizer()"
   ]
  },
  {
   "cell_type": "code",
   "execution_count": 16,
   "id": "7d4cf136-ffa2-43d9-b5c1-46004d86ef1c",
   "metadata": {},
   "outputs": [],
   "source": [
    "def set_policy(e, sub, obj=None, act=None, group=None):\n",
    "    if group:\n",
    "        return e.enforcer.add_role_for_user(sub, group)\n",
    "    return e.enforcer.add_policy(sub, obj, act)"
   ]
  },
  {
   "cell_type": "code",
   "execution_count": 13,
   "id": "f743a574-2061-4ba7-96fd-b5cdfc1dcfe1",
   "metadata": {},
   "outputs": [
    {
     "data": {
      "text/plain": [
       "True"
      ]
     },
     "execution_count": 13,
     "metadata": {},
     "output_type": "execute_result"
    }
   ],
   "source": [
    "set_policy(authz, 'staff', 'clearance', 'write')"
   ]
  },
  {
   "cell_type": "code",
   "execution_count": 14,
   "id": "803cc50d-768f-4d24-8123-67423860cfe0",
   "metadata": {
    "ExecuteTime": {
     "end_time": "2024-05-30T17:22:14.278072Z",
     "start_time": "2024-05-30T17:22:14.268752Z"
    }
   },
   "outputs": [
    {
     "data": {
      "text/plain": [
       "True"
      ]
     },
     "execution_count": 14,
     "metadata": {},
     "output_type": "execute_result"
    }
   ],
   "source": [
    "set_policy(authz, 'staff', 'clearance', 'read')"
   ]
  },
  {
   "cell_type": "code",
   "execution_count": 17,
   "id": "6ac7c301-432e-4b03-a615-681d52289853",
   "metadata": {
    "ExecuteTime": {
     "end_time": "2024-05-30T17:22:48.224618Z",
     "start_time": "2024-05-30T17:22:48.216486Z"
    }
   },
   "outputs": [
    {
     "data": {
      "text/plain": [
       "True"
      ]
     },
     "execution_count": 17,
     "metadata": {},
     "output_type": "execute_result"
    }
   ],
   "source": [
    "set_policy(authz, 'jmgibso3@ncsu.edu', group='staff')"
   ]
  },
  {
   "cell_type": "code",
   "execution_count": 5,
   "id": "469b8de7-d0b2-40bf-a2a9-4a3b4e621ad5",
   "metadata": {
    "ExecuteTime": {
     "end_time": "2024-05-30T17:22:40.413267Z",
     "start_time": "2024-05-30T17:22:40.408666Z"
    }
   },
   "outputs": [
    {
     "data": {
      "text/plain": [
       "['admin']"
      ]
     },
     "execution_count": 5,
     "metadata": {},
     "output_type": "execute_result"
    }
   ],
   "source": [
    "authz.enforcer.get_implicit_roles_for_user('jmgibso3@ncsu.edu')"
   ]
  },
  {
   "cell_type": "code",
   "execution_count": 7,
   "id": "7b9991b0-0b84-4603-8259-0fca286c3aa1",
   "metadata": {},
   "outputs": [
    {
     "data": {
      "text/plain": [
       "False"
      ]
     },
     "execution_count": 7,
     "metadata": {},
     "output_type": "execute_result"
    }
   ],
   "source": [
    "authz.enforcer.add_role_for_user('jmgibso3@ncsu.edu', 'staff')"
   ]
  },
  {
   "cell_type": "code",
   "execution_count": 31,
   "id": "9c3c8688-cf30-428a-9e11-59b14fc46756",
   "metadata": {},
   "outputs": [
    {
     "data": {
      "text/plain": [
       "True"
      ]
     },
     "execution_count": 31,
     "metadata": {},
     "output_type": "execute_result"
    }
   ],
   "source": [
    "authz.enforcer.add_policy(\"staylor8@ncsu.edu\", \"admin\", \"clearance\")"
   ]
  },
  {
   "cell_type": "code",
   "execution_count": 11,
   "id": "681acdbb-4a52-417a-b679-bb0e117ac466",
   "metadata": {},
   "outputs": [
    {
     "data": {
      "text/plain": [
       "True"
      ]
     },
     "execution_count": 11,
     "metadata": {},
     "output_type": "execute_result"
    }
   ],
   "source": [
    "authz.enforcer.add_role_for_user('jmgibso3@ncsu.edu', 'admin')"
   ]
  },
  {
   "cell_type": "code",
   "execution_count": 18,
   "id": "eb728c88-554a-40dd-8706-6618c1e30e18",
   "metadata": {},
   "outputs": [
    {
     "data": {
      "text/plain": [
       "True"
      ]
     },
     "execution_count": 18,
     "metadata": {},
     "output_type": "execute_result"
    }
   ],
   "source": [
    "authz.enforcer.enforce('jmgibso3@ncsu.edu', 'clearance', 'read')"
   ]
  },
  {
   "cell_type": "code",
   "execution_count": 15,
   "id": "ff674af3-132a-471e-b2a0-a5adf5fb46ee",
   "metadata": {},
   "outputs": [
    {
     "data": {
      "text/plain": [
       "True"
      ]
     },
     "execution_count": 15,
     "metadata": {},
     "output_type": "execute_result"
    }
   ],
   "source": [
    "authz.enforcer.delete_role_for_user('jmgibso3@ncsu.edu', 'staff')"
   ]
  },
  {
   "cell_type": "code",
   "execution_count": 20,
   "id": "db7a03f5-6de8-4bc3-a063-6d24bca33b86",
   "metadata": {},
   "outputs": [
    {
     "data": {
      "text/plain": [
       "True"
      ]
     },
     "execution_count": 20,
     "metadata": {},
     "output_type": "execute_result"
    }
   ],
   "source": [
    "authz.enforcer.delete_role('staff')"
   ]
  },
  {
   "cell_type": "code",
   "execution_count": 10,
   "id": "086f8931-5aaf-459f-bbbc-3e9e8e5ab871",
   "metadata": {},
   "outputs": [
    {
     "data": {
      "text/plain": [
       "[['admin', 'write']]"
      ]
     },
     "execution_count": 10,
     "metadata": {},
     "output_type": "execute_result"
    }
   ],
   "source": [
    "authz.enforcer.delete_role('write')"
   ]
  },
  {
   "cell_type": "code",
   "execution_count": 11,
   "id": "1739fabb-d063-414e-a355-ab4b16b617ce",
   "metadata": {},
   "outputs": [
    {
     "data": {
      "text/plain": [
       "True"
      ]
     },
     "execution_count": 11,
     "metadata": {},
     "output_type": "execute_result"
    }
   ],
   "source": [
    "authz.enforcer.delete_user('staylor8@ncsu.edu')"
   ]
  },
  {
   "cell_type": "code",
   "execution_count": 19,
   "id": "4f1085ca-9c2b-4ec8-820c-e721798aaae1",
   "metadata": {},
   "outputs": [
    {
     "data": {
      "text/plain": [
       "[['jmgibso3@ncsu.edu', 'staff']]"
      ]
     },
     "execution_count": 19,
     "metadata": {},
     "output_type": "execute_result"
    }
   ],
   "source": [
    "authz.enforcer.delete_user('jmgibso3@ncsu.edu')"
   ]
  },
  {
   "cell_type": "code",
   "execution_count": null,
   "id": "d0356229-79db-4d56-9f7e-46b8a22fe7d2",
   "metadata": {},
   "outputs": [],
   "source": []
  }
 ],
 "metadata": {
  "kernelspec": {
   "display_name": "Python 3 (ipykernel)",
   "language": "python",
   "name": "python3"
  },
  "language_info": {
   "codemirror_mode": {
    "name": "ipython",
    "version": 3
   },
   "file_extension": ".py",
   "mimetype": "text/x-python",
   "name": "python",
   "nbconvert_exporter": "python",
   "pygments_lexer": "ipython3",
   "version": "3.11.2"
  }
 },
 "nbformat": 4,
 "nbformat_minor": 5
}
