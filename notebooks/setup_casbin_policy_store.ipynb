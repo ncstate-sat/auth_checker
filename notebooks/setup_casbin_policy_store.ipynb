{
 "cells": [
  {
   "cell_type": "code",
   "execution_count": 1,
   "id": "feb6ec3b-28be-4f45-bd11-677e56e299e3",
   "metadata": {},
   "outputs": [
    {
     "data": {
      "text/plain": [
       "PosixPath('/home/jmgibso3/ncstate/projects/auth_checker')"
      ]
     },
     "execution_count": 1,
     "metadata": {},
     "output_type": "execute_result"
    }
   ],
   "source": [
    "import os, sys\n",
    "from pathlib import Path\n",
    "PROJECTPATH = Path(\".\").cwd().parent.absolute()\n",
    "sys.path.insert(0, PROJECTPATH)\n",
    "os.chdir(PROJECTPATH)\n",
    "PROJECTPATH"
   ]
  },
  {
   "cell_type": "code",
   "execution_count": 2,
   "id": "c7f96bad-9db1-4f12-8665-d0e0a11d0edf",
   "metadata": {},
   "outputs": [],
   "source": [
    "from auth_checker.authz.authorizer import Authorizer"
   ]
  },
  {
   "cell_type": "code",
   "execution_count": 3,
   "id": "b4b96b99-b46a-496e-b8a9-f7a8e8e5afbd",
   "metadata": {},
   "outputs": [],
   "source": [
    "authz = Authorizer()\n",
    "e = authz.enforcer"
   ]
  },
  {
   "cell_type": "code",
   "execution_count": 4,
   "id": "7f82117c-9169-411a-bc13-b5e1742e23a0",
   "metadata": {},
   "outputs": [
    {
     "data": {
      "text/plain": [
       "True"
      ]
     },
     "execution_count": 4,
     "metadata": {},
     "output_type": "execute_result"
    }
   ],
   "source": [
    "### One off Policy adds\n",
    "e.add_policy('staff:limited', 'userlookup', 'r')"
   ]
  },
  {
   "cell_type": "code",
   "execution_count": 11,
   "id": "ee4acff8-f260-4477-89aa-8d17df7ad45c",
   "metadata": {},
   "outputs": [],
   "source": [
    "apps = [\n",
    "    \"clearance\",\n",
    "    \"liaison\",\n",
    "    \"userlookup\",\n",
    "    \"automations\",\n",
    "    \"proxies\",\n",
    "]\n",
    "\n",
    "roles = {\n",
    "    \"staff\": \"w\",\n",
    "    \"limited\": \"r\",\n",
    "    \"admin\": \"app\",\n",
    "    \"dev\": \"root\",\n",
    "}\n",
    "\n",
    "\n",
    "# With group associations the 1 position becomes implicit to the 0 position\n",
    "# Thus admin can do all that staff can do, but staff is not permitted admin\n",
    "# Anything admin can do dev can do, but admin will not have dev permissions\n",
    "group_associations = [\n",
    "    ('staff', 'limited'),\n",
    "    ('admin', 'staff'),\n",
    "    ('dev', 'admin')\n",
    "]\n",
    "\n",
    "\n",
    "dev_users = [\n",
    "    'jmgibso3@ncsu.edu',\n",
    "    'staylor8@ncsu.edu',\n",
    "    'jtchampi@ncsu.edu',\n",
    "    'rsemmle@ncsu.edu',\n",
    "    'lgsanche@ncsu.edu',\n",
    "    'ewbrenna@ncsu.edu'\n",
    "]"
   ]
  },
  {
   "cell_type": "code",
   "execution_count": 12,
   "id": "b3453e42-ab64-4099-b57e-6524e143e76f",
   "metadata": {},
   "outputs": [],
   "source": [
    "def set_policies():\n",
    "    for app in apps:\n",
    "        for role, perm in roles.items():\n",
    "            # Namespaced for finer grained control outside SAT\n",
    "            e.add_policy(f\"{role}:{app}\", app, perm)\n",
    "            # Groupish\n",
    "            e.add_policy(role, app, perm)\n",
    "\n",
    "def set_group_associations():\n",
    "    for assoc in group_associations:\n",
    "        e.add_role_for_user(*assoc)\n",
    "\n",
    "def set_dev_users():\n",
    "    for user in dev_users:\n",
    "        e.add_role_for_user(user, 'dev')\n",
    "\n",
    "def clear_policy_store():\n",
    "    for role in e.get_all_roles():\n",
    "        e.delete_role(role)\n",
    "    for subj in e.get_all_subjects():\n",
    "        e.delete_user(subj)"
   ]
  },
  {
   "cell_type": "code",
   "execution_count": 20,
   "id": "9b042c2b-98cd-486c-aded-1f7bbc88bbef",
   "metadata": {},
   "outputs": [
    {
     "data": {
      "text/plain": [
       "['limited:userlookup']"
      ]
     },
     "execution_count": 20,
     "metadata": {},
     "output_type": "execute_result"
    }
   ],
   "source": [
    "authz.roles_for_user('jmgibso3@ncsu.edu')"
   ]
  },
  {
   "cell_type": "code",
   "execution_count": 13,
   "id": "de949636-784e-4aba-9ce6-efb49048287a",
   "metadata": {},
   "outputs": [],
   "source": [
    "set_policies()"
   ]
  },
  {
   "cell_type": "code",
   "execution_count": 14,
   "id": "38f2c67f-729a-4906-b3b0-4e30f7b77d48",
   "metadata": {},
   "outputs": [],
   "source": [
    "set_group_associations()"
   ]
  },
  {
   "cell_type": "code",
   "execution_count": 9,
   "id": "4b6ad36d-cb48-4b0b-842d-444ca2eda1af",
   "metadata": {},
   "outputs": [],
   "source": [
    "clear_policy_store()"
   ]
  },
  {
   "cell_type": "code",
   "execution_count": 16,
   "id": "34339079-8ff2-4bb8-927c-4d2b5012fd84",
   "metadata": {},
   "outputs": [],
   "source": [
    "set_dev_users()"
   ]
  },
  {
   "cell_type": "code",
   "execution_count": 21,
   "id": "b16de5c6-f65f-4d51-98f5-83d8f487a448",
   "metadata": {},
   "outputs": [
    {
     "data": {
      "text/plain": [
       "False"
      ]
     },
     "execution_count": 21,
     "metadata": {},
     "output_type": "execute_result"
    }
   ],
   "source": [
    "'admin' in e.get_implicit_roles_for_user('jmgibso3@ncsu.edu')"
   ]
  },
  {
   "cell_type": "code",
   "execution_count": 28,
   "id": "d67097f4-94f6-4c53-98b0-121801d2f98f",
   "metadata": {},
   "outputs": [
    {
     "data": {
      "text/plain": [
       "False"
      ]
     },
     "execution_count": 28,
     "metadata": {},
     "output_type": "execute_result"
    }
   ],
   "source": [
    "e.enforce('jmgibso3@ncsu.edu', 'userlookup', 'w')"
   ]
  },
  {
   "cell_type": "code",
   "execution_count": 30,
   "id": "7e4aa1c8-0294-489c-ac02-d61e158a44b9",
   "metadata": {},
   "outputs": [
    {
     "data": {
      "text/plain": [
       "True"
      ]
     },
     "execution_count": 30,
     "metadata": {},
     "output_type": "execute_result"
    }
   ],
   "source": [
    "e.enforce('jtchampi@ncsu.edu', 'userlookup', 'w')"
   ]
  },
  {
   "cell_type": "code",
   "execution_count": 31,
   "id": "cc7c12ee-819e-436b-9ddf-0eeb999e2227",
   "metadata": {},
   "outputs": [
    {
     "data": {
      "text/plain": [
       "['dev', 'admin', 'staff', 'limited']"
      ]
     },
     "execution_count": 31,
     "metadata": {},
     "output_type": "execute_result"
    }
   ],
   "source": [
    "e.get_implicit_roles_for_user('jtchampi@ncsu.edu')"
   ]
  },
  {
   "cell_type": "markdown",
   "id": "7a80e455-99d9-469c-ba9f-8998420b6a02",
   "metadata": {},
   "source": [
    "### Change roles for dev users during testing"
   ]
  },
  {
   "cell_type": "code",
   "execution_count": 18,
   "id": "77456ccf-8bc4-4d67-98ac-a084d182c677",
   "metadata": {},
   "outputs": [
    {
     "data": {
      "text/plain": [
       "True"
      ]
     },
     "execution_count": 18,
     "metadata": {},
     "output_type": "execute_result"
    }
   ],
   "source": [
    "e.delete_role_for_user('jmgibso3@ncsu.edu', 'dev')"
   ]
  },
  {
   "cell_type": "code",
   "execution_count": 4,
   "id": "3c8922ef-c045-4873-b273-97e42fc1bcf3",
   "metadata": {},
   "outputs": [
    {
     "data": {
      "text/plain": [
       "True"
      ]
     },
     "execution_count": 4,
     "metadata": {},
     "output_type": "execute_result"
    }
   ],
   "source": [
    "e.add_role_for_user('jmgibso3@ncsu.edu', 'limited:userlookup')\n",
    "e.add_role_for_user('jmgibso3@ncsu.edu', 'limited:proxies')\n",
    "e.add_role_for_user('jmgibso3@ncsu.edu', 'limited:liaison')"
   ]
  },
  {
   "cell_type": "code",
   "execution_count": 25,
   "id": "d021761e-e012-4e91-92c1-d8cf97935e75",
   "metadata": {},
   "outputs": [
    {
     "data": {
      "text/plain": [
       "True"
      ]
     },
     "execution_count": 25,
     "metadata": {},
     "output_type": "execute_result"
    }
   ],
   "source": [
    "e.add_role_for_user('jmgibso3@ncsu.edu', 'staff:clearance')"
   ]
  },
  {
   "cell_type": "code",
   "execution_count": 26,
   "id": "0550ac02-cca4-4a2b-97df-41349b81e4c8",
   "metadata": {},
   "outputs": [
    {
     "data": {
      "text/plain": [
       "True"
      ]
     },
     "execution_count": 26,
     "metadata": {},
     "output_type": "execute_result"
    }
   ],
   "source": [
    "e.enforce('jmgibso3@ncsu.edu', 'clearance', 'w')"
   ]
  },
  {
   "cell_type": "code",
   "execution_count": 27,
   "id": "0b911270-08ee-4df3-b5b6-b372104b30e5",
   "metadata": {},
   "outputs": [
    {
     "data": {
      "text/plain": [
       "False"
      ]
     },
     "execution_count": 27,
     "metadata": {},
     "output_type": "execute_result"
    }
   ],
   "source": [
    "e.enforce('jmgibso3@ncsu.edu', 'liaison', 'r')"
   ]
  },
  {
   "cell_type": "code",
   "execution_count": null,
   "id": "97a002c4-6e35-4adb-a85b-25182a43729a",
   "metadata": {},
   "outputs": [],
   "source": []
  }
 ],
 "metadata": {
  "kernelspec": {
   "display_name": "Python 3 (ipykernel)",
   "language": "python",
   "name": "python3"
  },
  "language_info": {
   "codemirror_mode": {
    "name": "ipython",
    "version": 3
   },
   "file_extension": ".py",
   "mimetype": "text/x-python",
   "name": "python",
   "nbconvert_exporter": "python",
   "pygments_lexer": "ipython3",
   "version": "3.11.2"
  }
 },
 "nbformat": 4,
 "nbformat_minor": 5
}
