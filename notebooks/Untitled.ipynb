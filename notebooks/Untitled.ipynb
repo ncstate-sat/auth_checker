{
 "cells": [
  {
   "cell_type": "code",
   "execution_count": 1,
   "id": "feb6ec3b-28be-4f45-bd11-677e56e299e3",
   "metadata": {},
   "outputs": [
    {
     "data": {
      "text/plain": [
       "PosixPath('/home/jmgibso3/ncstate/projects/auth-service-mirror')"
      ]
     },
     "execution_count": 1,
     "metadata": {},
     "output_type": "execute_result"
    }
   ],
   "source": [
    "import os, sys\n",
    "from pathlib import Path\n",
    "PROJECTPATH = Path(\".\").cwd().parent.absolute()\n",
    "sys.path.insert(0, PROJECTPATH)\n",
    "os.chdir(PROJECTPATH)\n",
    "PROJECTPATH"
   ]
  },
  {
   "cell_type": "code",
   "execution_count": 2,
   "id": "c7f96bad-9db1-4f12-8665-d0e0a11d0edf",
   "metadata": {},
   "outputs": [
    {
     "name": "stdout",
     "output_type": "stream",
     "text": [
      "['/home/jmgibso3/ncstate/projects/auth-service-mirror/auth_service/plugins/authorize'] auth_service.plugins.authorize.\n"
     ]
    }
   ],
   "source": [
    "import auth_service.plugins as plugins"
   ]
  },
  {
   "cell_type": "code",
   "execution_count": 3,
   "id": "b4b96b99-b46a-496e-b8a9-f7a8e8e5afbd",
   "metadata": {},
   "outputs": [
    {
     "ename": "AttributeError",
     "evalue": "module 'auth_service.plugins' has no attribute 'AuthorizerPluginRegistry'",
     "output_type": "error",
     "traceback": [
      "\u001b[0;31m---------------------------------------------------------------------------\u001b[0m",
      "\u001b[0;31mAttributeError\u001b[0m                            Traceback (most recent call last)",
      "Cell \u001b[0;32mIn[3], line 1\u001b[0m\n\u001b[0;32m----> 1\u001b[0m \u001b[43mplugins\u001b[49m\u001b[38;5;241;43m.\u001b[39;49m\u001b[43mAuthorizerPluginRegistry\u001b[49m\u001b[38;5;241m.\u001b[39mREGISTRY\n",
      "\u001b[0;31mAttributeError\u001b[0m: module 'auth_service.plugins' has no attribute 'AuthorizerPluginRegistry'"
     ]
    }
   ],
   "source": [
    "plugins.AuthorizerPluginRegistry.REGISTRY"
   ]
  },
  {
   "cell_type": "code",
   "execution_count": null,
   "id": "ee4acff8-f260-4477-89aa-8d17df7ad45c",
   "metadata": {},
   "outputs": [],
   "source": []
  }
 ],
 "metadata": {
  "kernelspec": {
   "display_name": "Python 3 (ipykernel)",
   "language": "python",
   "name": "python3"
  },
  "language_info": {
   "codemirror_mode": {
    "name": "ipython",
    "version": 3
   },
   "file_extension": ".py",
   "mimetype": "text/x-python",
   "name": "python",
   "nbconvert_exporter": "python",
   "pygments_lexer": "ipython3",
   "version": "3.11.2"
  }
 },
 "nbformat": 4,
 "nbformat_minor": 5
}
