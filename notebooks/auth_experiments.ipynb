{
 "cells": [
  {
   "cell_type": "code",
   "execution_count": 5,
   "id": "e860f5c8-732f-4e30-92b9-588a6f582965",
   "metadata": {},
   "outputs": [
    {
     "data": {
      "text/plain": [
       "PosixPath('/home/jmgibso3/ncstate/projects/auth-service-mirror')"
      ]
     },
     "execution_count": 5,
     "metadata": {},
     "output_type": "execute_result"
    }
   ],
   "source": [
    "import os, sys\n",
    "from pathlib import Path\n",
    "PROJECTPATH = Path(\".\").cwd().parent.absolute()\n",
    "sys.path.insert(0, PROJECTPATH)\n",
    "PROJECTPATH"
   ]
  },
  {
   "cell_type": "code",
   "execution_count": 6,
   "id": "1b0c3e30",
   "metadata": {},
   "outputs": [
    {
     "ename": "ModuleNotFoundError",
     "evalue": "No module named 'auth_service'",
     "output_type": "error",
     "traceback": [
      "\u001b[0;31m---------------------------------------------------------------------------\u001b[0m",
      "\u001b[0;31mModuleNotFoundError\u001b[0m                       Traceback (most recent call last)",
      "Cell \u001b[0;32mIn[6], line 6\u001b[0m\n\u001b[1;32m      4\u001b[0m \u001b[38;5;28;01mfrom\u001b[39;00m \u001b[38;5;21;01mgoogle\u001b[39;00m\u001b[38;5;21;01m.\u001b[39;00m\u001b[38;5;21;01mauth\u001b[39;00m\u001b[38;5;21;01m.\u001b[39;00m\u001b[38;5;21;01mtransport\u001b[39;00m\u001b[38;5;21;01m.\u001b[39;00m\u001b[38;5;21;01mrequests\u001b[39;00m \u001b[38;5;28;01mimport\u001b[39;00m AuthorizedSession\n\u001b[1;32m      5\u001b[0m \u001b[38;5;28;01mfrom\u001b[39;00m \u001b[38;5;21;01mgoogle\u001b[39;00m\u001b[38;5;21;01m.\u001b[39;00m\u001b[38;5;21;01mauth\u001b[39;00m \u001b[38;5;28;01mimport\u001b[39;00m crypt, jwt\n\u001b[0;32m----> 6\u001b[0m \u001b[38;5;28;01mfrom\u001b[39;00m \u001b[38;5;21;01mauth_service\u001b[39;00m\u001b[38;5;21;01m.\u001b[39;00m\u001b[38;5;21;01mmodels\u001b[39;00m\u001b[38;5;21;01m.\u001b[39;00m\u001b[38;5;21;01maccount\u001b[39;00m \u001b[38;5;28;01mimport\u001b[39;00m Account\n\u001b[1;32m      7\u001b[0m \u001b[38;5;28;01mimport\u001b[39;00m \u001b[38;5;21;01mbase64\u001b[39;00m\n\u001b[1;32m      8\u001b[0m \u001b[38;5;28;01mfrom\u001b[39;00m \u001b[38;5;21;01mpathlib\u001b[39;00m \u001b[38;5;28;01mimport\u001b[39;00m Path\n",
      "\u001b[0;31mModuleNotFoundError\u001b[0m: No module named 'auth_service'"
     ]
    }
   ],
   "source": [
    "from datetime import timedelta, datetime\n",
    "from dateutil.tz import *\n",
    "from google.oauth2 import service_account\n",
    "from google.auth.transport.requests import AuthorizedSession\n",
    "from google.auth import crypt, jwt\n",
    "from auth_service.models.account import Account\n",
    "import base64\n",
    "from pathlib import Path\n",
    "import json\n",
    "import requests"
   ]
  },
  {
   "cell_type": "code",
   "execution_count": 296,
   "id": "9c6623c3",
   "metadata": {},
   "outputs": [],
   "source": [
    "def convert_dt_to_milliseconds(dt):\n",
    "    return int(dt.timestamp())"
   ]
  },
  {
   "cell_type": "code",
   "execution_count": 297,
   "id": "5439b6f3",
   "metadata": {},
   "outputs": [],
   "source": [
    "SERVICE_ACCOUNT_FILE = 'authentication-test-354015-c7e6ec34b7eb.json'"
   ]
  },
  {
   "cell_type": "code",
   "execution_count": 298,
   "id": "9be1c589",
   "metadata": {},
   "outputs": [
    {
     "name": "stdout",
     "output_type": "stream",
     "text": [
      "iat: 2023-06-29 09:03:45.187022\n",
      "exp: 2023-06-29 13:05:45.187104\n"
     ]
    }
   ],
   "source": [
    "service_account = json.load(Path(SERVICE_ACCOUNT_FILE).open('rb'))\n",
    "signed_email = service_account[\"client_email\"]\n",
    "iat = datetime.now().timestamp()\n",
    "exp = (datetime.utcnow() + timedelta(minutes=2)).timestamp()\n",
    "payload = {\n",
    "    'email': signed_email, \n",
    "    'iat': iat,\n",
    "    'exp': exp,\n",
    "}\n",
    "print(f\"iat: {datetime.fromtimestamp(iat)}\\nexp: {datetime.fromtimestamp(exp)}\")"
   ]
  },
  {
   "cell_type": "code",
   "execution_count": 299,
   "id": "6bacfb11",
   "metadata": {},
   "outputs": [
    {
     "data": {
      "text/plain": [
       "dict"
      ]
     },
     "execution_count": 299,
     "metadata": {},
     "output_type": "execute_result"
    }
   ],
   "source": [
    "signer = crypt.RSASigner.from_service_account_info(service_account)\n",
    "encoded = jwt.encode(signer, payload)\n",
    "unverified_claims = jwt.decode(encoded, verify=False)\n",
    "type(unverified_claims)"
   ]
  },
  {
   "cell_type": "code",
   "execution_count": 300,
   "id": "ad8c21d1",
   "metadata": {},
   "outputs": [
    {
     "data": {
      "text/plain": [
       "dict"
      ]
     },
     "execution_count": 300,
     "metadata": {},
     "output_type": "execute_result"
    }
   ],
   "source": [
    "certs = requests.get(now_a_dict[\"client_x509_cert_url\"])\n",
    "public_certs = json.loads(certs.content)\n",
    "claims = jwt.decode(encoded, certs=public_certs)"
   ]
  }
 ],
 "metadata": {
  "kernelspec": {
   "display_name": "Python 3 (ipykernel)",
   "language": "python",
   "name": "python3"
  },
  "language_info": {
   "codemirror_mode": {
    "name": "ipython",
    "version": 3
   },
   "file_extension": ".py",
   "mimetype": "text/x-python",
   "name": "python",
   "nbconvert_exporter": "python",
   "pygments_lexer": "ipython3",
   "version": "3.11.2"
  }
 },
 "nbformat": 4,
 "nbformat_minor": 5
}
