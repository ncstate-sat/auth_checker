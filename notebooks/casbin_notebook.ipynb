{
 "cells": [
  {
   "cell_type": "code",
   "execution_count": 1,
   "id": "7e008978-f06e-4268-96a3-3430af09e276",
   "metadata": {
    "ExecuteTime": {
     "end_time": "2024-05-30T16:31:47.249851Z",
     "start_time": "2024-05-30T16:31:47.237689Z"
    }
   },
   "outputs": [
    {
     "data": {
      "text/plain": [
       "PosixPath('/home/jmgibso3/ncstate/projects/auth_checker')"
      ]
     },
     "execution_count": 1,
     "metadata": {},
     "output_type": "execute_result"
    }
   ],
   "source": [
    "import os, sys\n",
    "from pathlib import Path\n",
    "PROJECTPATH = Path(\".\").cwd().parent.absolute()\n",
    "sys.path.insert(0, PROJECTPATH)\n",
    "os.chdir(PROJECTPATH)\n",
    "PROJECTPATH"
   ]
  },
  {
   "cell_type": "code",
   "execution_count": 2,
   "id": "27e1b63f-66fa-444a-b4e0-23854681367d",
   "metadata": {
    "ExecuteTime": {
     "end_time": "2024-05-30T16:31:50.764867Z",
     "start_time": "2024-05-30T16:31:50.078622Z"
    }
   },
   "outputs": [
    {
     "ename": "TypeError",
     "evalue": "name must be an instance of str",
     "output_type": "error",
     "traceback": [
      "\u001b[0;31m---------------------------------------------------------------------------\u001b[0m",
      "\u001b[0;31mTypeError\u001b[0m                                 Traceback (most recent call last)",
      "Cell \u001b[0;32mIn[2], line 10\u001b[0m\n\u001b[1;32m      7\u001b[0m model \u001b[38;5;241m=\u001b[39m Model()\n\u001b[1;32m      8\u001b[0m model\u001b[38;5;241m.\u001b[39mload_model_from_text(CASBIN_RBAC_MODEL)\n\u001b[0;32m---> 10\u001b[0m adapter \u001b[38;5;241m=\u001b[39m \u001b[43mAdapter\u001b[49m\u001b[43m(\u001b[49m\u001b[43mos\u001b[49m\u001b[38;5;241;43m.\u001b[39;49m\u001b[43mgetenv\u001b[49m\u001b[43m(\u001b[49m\u001b[38;5;124;43m'\u001b[39;49m\u001b[38;5;124;43mMONGODB_URI\u001b[39;49m\u001b[38;5;124;43m'\u001b[39;49m\u001b[43m)\u001b[49m\u001b[43m,\u001b[49m\u001b[43m \u001b[49m\u001b[43mdbname\u001b[49m\u001b[38;5;241;43m=\u001b[39;49m\u001b[43mos\u001b[49m\u001b[38;5;241;43m.\u001b[39;49m\u001b[43mgetenv\u001b[49m\u001b[43m(\u001b[49m\u001b[38;5;124;43m'\u001b[39;49m\u001b[38;5;124;43mMONGODB_DB\u001b[39;49m\u001b[38;5;124;43m'\u001b[39;49m\u001b[43m)\u001b[49m\u001b[43m)\u001b[49m\n\u001b[1;32m     11\u001b[0m e \u001b[38;5;241m=\u001b[39m casbin\u001b[38;5;241m.\u001b[39mEnforcer(model, adapter, \u001b[38;5;28;01mTrue\u001b[39;00m)\n",
      "File \u001b[0;32m~/ncstate/projects/auth_checker/.direnv/python-3.11/lib/python3.11/site-packages/casbin_pymongo_adapter/adapter.py:54\u001b[0m, in \u001b[0;36mAdapter.__init__\u001b[0;34m(self, uri, dbname, collection)\u001b[0m\n\u001b[1;32m     45\u001b[0m \u001b[38;5;250m\u001b[39m\u001b[38;5;124;03m\"\"\"Create an adapter for Mongodb\u001b[39;00m\n\u001b[1;32m     46\u001b[0m \n\u001b[1;32m     47\u001b[0m \u001b[38;5;124;03mArgs:\u001b[39;00m\n\u001b[0;32m   (...)\u001b[0m\n\u001b[1;32m     51\u001b[0m \u001b[38;5;124;03m    collection (str, optional): Collection of the choosen database. Defaults to \"casbin_rule\".\u001b[39;00m\n\u001b[1;32m     52\u001b[0m \u001b[38;5;124;03m\"\"\"\u001b[39;00m\n\u001b[1;32m     53\u001b[0m client \u001b[38;5;241m=\u001b[39m MongoClient(uri)\n\u001b[0;32m---> 54\u001b[0m db \u001b[38;5;241m=\u001b[39m \u001b[43mclient\u001b[49m\u001b[43m[\u001b[49m\u001b[43mdbname\u001b[49m\u001b[43m]\u001b[49m\n\u001b[1;32m     55\u001b[0m \u001b[38;5;28mself\u001b[39m\u001b[38;5;241m.\u001b[39m_collection \u001b[38;5;241m=\u001b[39m db[collection]\n",
      "File \u001b[0;32m~/ncstate/projects/auth_checker/.direnv/python-3.11/lib/python3.11/site-packages/pymongo/mongo_client.py:1641\u001b[0m, in \u001b[0;36mMongoClient.__getitem__\u001b[0;34m(self, name)\u001b[0m\n\u001b[1;32m   1633\u001b[0m \u001b[38;5;28;01mdef\u001b[39;00m \u001b[38;5;21m__getitem__\u001b[39m(\u001b[38;5;28mself\u001b[39m, name: \u001b[38;5;28mstr\u001b[39m) \u001b[38;5;241m-\u001b[39m\u001b[38;5;241m>\u001b[39m database\u001b[38;5;241m.\u001b[39mDatabase[_DocumentType]:\n\u001b[1;32m   1634\u001b[0m \u001b[38;5;250m    \u001b[39m\u001b[38;5;124;03m\"\"\"Get a database by name.\u001b[39;00m\n\u001b[1;32m   1635\u001b[0m \n\u001b[1;32m   1636\u001b[0m \u001b[38;5;124;03m    Raises :class:`~pymongo.errors.InvalidName` if an invalid\u001b[39;00m\n\u001b[0;32m   (...)\u001b[0m\n\u001b[1;32m   1639\u001b[0m \u001b[38;5;124;03m    :param name: the name of the database to get\u001b[39;00m\n\u001b[1;32m   1640\u001b[0m \u001b[38;5;124;03m    \"\"\"\u001b[39;00m\n\u001b[0;32m-> 1641\u001b[0m     \u001b[38;5;28;01mreturn\u001b[39;00m \u001b[43mdatabase\u001b[49m\u001b[38;5;241;43m.\u001b[39;49m\u001b[43mDatabase\u001b[49m\u001b[43m(\u001b[49m\u001b[38;5;28;43mself\u001b[39;49m\u001b[43m,\u001b[49m\u001b[43m \u001b[49m\u001b[43mname\u001b[49m\u001b[43m)\u001b[49m\n",
      "File \u001b[0;32m~/ncstate/projects/auth_checker/.direnv/python-3.11/lib/python3.11/site-packages/pymongo/database.py:136\u001b[0m, in \u001b[0;36mDatabase.__init__\u001b[0;34m(self, client, name, codec_options, read_preference, write_concern, read_concern)\u001b[0m\n\u001b[1;32m    128\u001b[0m \u001b[38;5;28msuper\u001b[39m()\u001b[38;5;241m.\u001b[39m\u001b[38;5;21m__init__\u001b[39m(\n\u001b[1;32m    129\u001b[0m     codec_options \u001b[38;5;129;01mor\u001b[39;00m client\u001b[38;5;241m.\u001b[39mcodec_options,\n\u001b[1;32m    130\u001b[0m     read_preference \u001b[38;5;129;01mor\u001b[39;00m client\u001b[38;5;241m.\u001b[39mread_preference,\n\u001b[1;32m    131\u001b[0m     write_concern \u001b[38;5;129;01mor\u001b[39;00m client\u001b[38;5;241m.\u001b[39mwrite_concern,\n\u001b[1;32m    132\u001b[0m     read_concern \u001b[38;5;129;01mor\u001b[39;00m client\u001b[38;5;241m.\u001b[39mread_concern,\n\u001b[1;32m    133\u001b[0m )\n\u001b[1;32m    135\u001b[0m \u001b[38;5;28;01mif\u001b[39;00m \u001b[38;5;129;01mnot\u001b[39;00m \u001b[38;5;28misinstance\u001b[39m(name, \u001b[38;5;28mstr\u001b[39m):\n\u001b[0;32m--> 136\u001b[0m     \u001b[38;5;28;01mraise\u001b[39;00m \u001b[38;5;167;01mTypeError\u001b[39;00m(\u001b[38;5;124m\"\u001b[39m\u001b[38;5;124mname must be an instance of str\u001b[39m\u001b[38;5;124m\"\u001b[39m)\n\u001b[1;32m    138\u001b[0m \u001b[38;5;28;01mif\u001b[39;00m name \u001b[38;5;241m!=\u001b[39m \u001b[38;5;124m\"\u001b[39m\u001b[38;5;124m$external\u001b[39m\u001b[38;5;124m\"\u001b[39m:\n\u001b[1;32m    139\u001b[0m     _check_name(name)\n",
      "\u001b[0;31mTypeError\u001b[0m: name must be an instance of str"
     ]
    }
   ],
   "source": [
    "# from casbin_redis_adapter.adapter import Adapter\n",
    "from casbin_pymongo_adapter.adapter import Adapter\n",
    "from auth_checker.util.settings import CASBIN_RBAC_MODEL\n",
    "import casbin\n",
    "from casbin.model import Model\n",
    "\n",
    "model = Model()\n",
    "model.load_model_from_text(CASBIN_RBAC_MODEL)\n",
    "\n",
    "adapter = Adapter(os.getenv('MONGODB_URI'), dbname=os.getenv('MONGODB_DB'))\n",
    "e = casbin.Enforcer(model, adapter, True)"
   ]
  },
  {
   "cell_type": "code",
   "execution_count": 5,
   "id": "54ef747a-1abc-46f6-b880-4e77c1bf69da",
   "metadata": {
    "ExecuteTime": {
     "end_time": "2024-05-30T16:14:10.149005Z",
     "start_time": "2024-05-30T16:14:10.142478Z"
    }
   },
   "outputs": [
    {
     "data": {
      "text/plain": [
       "[]"
      ]
     },
     "execution_count": 5,
     "metadata": {},
     "output_type": "execute_result"
    }
   ],
   "source": [
    "e.get_all_named_subjects(\"jmgibso3\")"
   ]
  },
  {
   "cell_type": "code",
   "execution_count": 6,
   "id": "66bdb970-cfbf-457d-91bf-d9b13d5de72d",
   "metadata": {
    "ExecuteTime": {
     "end_time": "2024-05-30T16:14:16.112943Z",
     "start_time": "2024-05-30T16:14:16.109994Z"
    }
   },
   "outputs": [],
   "source": [
    "def set_policy(sub, obj=None, act=None, group=None):\n",
    "    if group:\n",
    "        return e.add_role_for_user(sub, group)\n",
    "    return e.add_policy(sub, obj, act)"
   ]
  },
  {
   "cell_type": "code",
   "execution_count": 7,
   "id": "8f0ca3c4-70fb-4147-a7e6-fd529adbb25b",
   "metadata": {},
   "outputs": [],
   "source": [
    "def group_policies():\n",
    "    set_policy('clearance_liaison', 'clearance', 'read')\n",
    "    set_policy('clearance_admin', 'clearance', 'read')\n",
    "    set_policy('clearance_admin', 'clearance', 'write')\n",
    "    set_policy('clearance_dev', 'clearance', 'assume')\n",
    "\n",
    "def user_policies():\n",
    "    set_policy('jmgibso3', group='clearance_admin')\n",
    "    set_policy('jmgibso3', group='clearance_dev')\n",
    "    set_policy('jtchampi', group='clearance_liaison')\n",
    "    set_policy('dgreen', group='clearance_admin')\n",
    "    set_policy('clearance_dev', group='clearance_admin')"
   ]
  },
  {
   "cell_type": "code",
   "execution_count": 8,
   "id": "0fccc818-4815-4595-a44f-14017acc09e5",
   "metadata": {},
   "outputs": [],
   "source": [
    "group_policies()"
   ]
  },
  {
   "cell_type": "code",
   "execution_count": 9,
   "id": "c44b4ecc-3f3f-4022-b99d-2bc82807aeb1",
   "metadata": {},
   "outputs": [],
   "source": [
    "user_policies()"
   ]
  },
  {
   "cell_type": "code",
   "execution_count": 7,
   "id": "a9d63959-e84a-4dcd-aa11-22def2c24942",
   "metadata": {
    "ExecuteTime": {
     "end_time": "2024-05-30T16:14:24.864333Z",
     "start_time": "2024-05-30T16:14:24.858039Z"
    }
   },
   "outputs": [
    {
     "data": {
      "text/plain": [
       "[['clearance_admin', 'clearance', 'read'],\n",
       " ['clearance_admin', 'clearance', 'write'],\n",
       " ['clearance_dev', 'clearance', 'assume']]"
      ]
     },
     "execution_count": 7,
     "metadata": {},
     "output_type": "execute_result"
    }
   ],
   "source": [
    "e.get_implicit_permissions_for_user('jmgibso3')"
   ]
  },
  {
   "cell_type": "code",
   "execution_count": 8,
   "id": "1230b570-d9e4-4513-8449-e2138256d2f4",
   "metadata": {
    "ExecuteTime": {
     "end_time": "2024-05-30T16:14:35.476844Z",
     "start_time": "2024-05-30T16:14:35.472365Z"
    }
   },
   "outputs": [
    {
     "data": {
      "text/plain": [
       "['clearance_liaison']"
      ]
     },
     "execution_count": 8,
     "metadata": {},
     "output_type": "execute_result"
    }
   ],
   "source": [
    "e.get_roles_for_user('jtchampi')"
   ]
  },
  {
   "cell_type": "code",
   "execution_count": 8,
   "id": "17dbfafb-7fda-49ac-9253-8ffa0850d48f",
   "metadata": {},
   "outputs": [
    {
     "data": {
      "text/plain": [
       "[['clearance_liaison', 'clearance', 'read']]"
      ]
     },
     "execution_count": 8,
     "metadata": {},
     "output_type": "execute_result"
    }
   ],
   "source": [
    "e.get_implicit_permissions_for_user('jtchampi')"
   ]
  },
  {
   "cell_type": "code",
   "execution_count": 40,
   "id": "b14b3566-70c6-439b-90da-ef17c45ed539",
   "metadata": {},
   "outputs": [
    {
     "name": "stderr",
     "output_type": "stream",
     "text": [
      "2024-04-08 10:15:25,196 Request: jtchampi, clearance, assume ---> True\n"
     ]
    },
    {
     "data": {
      "text/plain": [
       "True"
      ]
     },
     "execution_count": 40,
     "metadata": {},
     "output_type": "execute_result"
    }
   ],
   "source": [
    "e.enforce('jtchampi', 'clearance', 'assume')"
   ]
  },
  {
   "cell_type": "code",
   "execution_count": 41,
   "id": "8f75323f-efc7-4fde-88cf-162b009541a6",
   "metadata": {},
   "outputs": [
    {
     "data": {
      "text/plain": [
       "[['clearance_admin', 'clearance', 'read'],\n",
       " ['clearance_admin', 'clearance', 'write']]"
      ]
     },
     "execution_count": 41,
     "metadata": {},
     "output_type": "execute_result"
    }
   ],
   "source": [
    "e.get_implicit_permissions_for_user('dgreen')"
   ]
  },
  {
   "cell_type": "code",
   "execution_count": 44,
   "id": "35f02392-54fb-4fbd-9e94-183ec36c39e2",
   "metadata": {},
   "outputs": [
    {
     "name": "stderr",
     "output_type": "stream",
     "text": [
      "2024-04-08 10:17:39,688 Request: dgreen, clearance, assume ---> False\n"
     ]
    },
    {
     "data": {
      "text/plain": [
       "False"
      ]
     },
     "execution_count": 44,
     "metadata": {},
     "output_type": "execute_result"
    }
   ],
   "source": [
    "e.enforce('dgreen', 'clearance', 'assume')"
   ]
  },
  {
   "cell_type": "markdown",
   "id": "8acf2d5d-a7eb-4467-ac69-fd8cff120774",
   "metadata": {},
   "source": [
    "# RBAC Model\n",
    "-------------\n",
    "[request_definition]\n",
    "r = sub, obj, act\n",
    "\n",
    "[policy_definition]\n",
    "p = sub, obj, act\n",
    "\n",
    "[role_definition]\n",
    "g = _, _\n",
    "\n",
    "[policy_effect]\n",
    "e = some(where (p.eft == allow))\n",
    "\n",
    "[matchers]\n",
    "m = g(r.sub, p.sub) && r.obj == p.obj && r.act == p.act\n",
    "\n",
    "-----------\n",
    "\n",
    "# Policy Examples\n",
    "-----------------\n",
    "\n",
    "p, alice, data1, read\n",
    "\n",
    "p, bob, data2, write\n",
    "\n",
    "p, data2_admin, data2, read\n",
    "\n",
    "p, data2_admin, data2, write\n",
    "\n",
    "g, alice, data2_admin\n",
    "\n",
    "----------------\n",
    "\n",
    "## In Words\n",
    "\n",
    "When creating RBAC policies there are two possibilities `p` and `g`. \n",
    "\n",
    "A `p` will always have an action (e.g. 'write', 'read', 'update', 'delete', 'give_raspberries')\n",
    "A `g` will always have a user or (maybe? another group) as the subject and a group as the object\n",
    "\n",
    "# Groups\n",
    "* owner\n",
    "* liaison\n",
    "  * liaison_authorizor\n",
    "  * liaison_requestor\n",
    "* cmt\n",
    "* automations\n",
    "\n",
    "## Policies\n",
    "* liaison_admin\n",
    "  * (p, liaison_admin, liaison, read)\n",
    "  * (p, liaison_admin, liaison, write)\n"
   ]
  },
  {
   "cell_type": "code",
   "execution_count": 8,
   "id": "64c1bf76-7686-48d2-8a29-a11ced84dbbb",
   "metadata": {},
   "outputs": [
    {
     "data": {
      "text/plain": [
       "[]"
      ]
     },
     "execution_count": 8,
     "metadata": {},
     "output_type": "execute_result"
    }
   ],
   "source": [
    "    "
   ]
  }
 ],
 "metadata": {
  "kernelspec": {
   "display_name": "Python 3 (ipykernel)",
   "language": "python",
   "name": "python3"
  },
  "language_info": {
   "codemirror_mode": {
    "name": "ipython",
    "version": 3
   },
   "file_extension": ".py",
   "mimetype": "text/x-python",
   "name": "python",
   "nbconvert_exporter": "python",
   "pygments_lexer": "ipython3",
   "version": "3.11.2"
  }
 },
 "nbformat": 4,
 "nbformat_minor": 5
}
