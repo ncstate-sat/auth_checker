{
 "cells": [
  {
   "cell_type": "code",
   "execution_count": 1,
   "id": "7e008978-f06e-4268-96a3-3430af09e276",
   "metadata": {},
   "outputs": [
    {
     "data": {
      "text/plain": [
       "PosixPath('/home/jmgibso3/ncstate/projects/auth_checker')"
      ]
     },
     "execution_count": 1,
     "metadata": {},
     "output_type": "execute_result"
    }
   ],
   "source": [
    "import os, sys\n",
    "from pathlib import Path\n",
    "PROJECTPATH = Path(\".\").cwd().parent.absolute()\n",
    "sys.path.insert(0, PROJECTPATH)\n",
    "os.chdir(PROJECTPATH)\n",
    "PROJECTPATH"
   ]
  },
  {
   "cell_type": "code",
   "execution_count": 2,
   "id": "27e1b63f-66fa-444a-b4e0-23854681367d",
   "metadata": {},
   "outputs": [],
   "source": [
    "# from casbin_redis_adapter.adapter import Adapter\n",
    "from casbin_pymongo_adapter.adapter import Adapter\n",
    "import casbin\n",
    "\n",
    "adapter = Adapter(os.getenv('MONGODB_URI'), dbname=os.getenv('MONGODB_DB'))\n",
    "e = casbin.Enforcer('rbac_model.conf', adapter, True)"
   ]
  },
  {
   "cell_type": "code",
   "execution_count": 18,
   "id": "54ef747a-1abc-46f6-b880-4e77c1bf69da",
   "metadata": {},
   "outputs": [
    {
     "data": {
      "text/plain": [
       "[]"
      ]
     },
     "execution_count": 18,
     "metadata": {},
     "output_type": "execute_result"
    }
   ],
   "source": [
    "e.get_all_named_subjects(\"jmgibso3\")"
   ]
  },
  {
   "cell_type": "code",
   "execution_count": 5,
   "id": "66bdb970-cfbf-457d-91bf-d9b13d5de72d",
   "metadata": {},
   "outputs": [],
   "source": [
    "def set_policy(sub, obj=None, act=None, group=None):\n",
    "    if group:\n",
    "        return e.add_role_for_user(sub, group)\n",
    "    return e.add_policy(sub, obj, act)"
   ]
  },
  {
   "cell_type": "code",
   "execution_count": 7,
   "id": "8f0ca3c4-70fb-4147-a7e6-fd529adbb25b",
   "metadata": {},
   "outputs": [],
   "source": [
    "def group_policies():\n",
    "    set_policy('clearance_liaison', 'clearance', 'read')\n",
    "    set_policy('clearance_admin', 'clearance', 'read')\n",
    "    set_policy('clearance_admin', 'clearance', 'write')\n",
    "    set_policy('clearance_dev', 'clearance', 'assume')\n",
    "\n",
    "def user_policies():\n",
    "    set_policy('jmgibso3', group='clearance_admin')\n",
    "    set_policy('jmgibso3', group='clearance_dev')\n",
    "    set_policy('jtchampi', group='clearance_liaison')\n",
    "    set_policy('dgreen', group='clearance_admin')\n",
    "    set_policy('clearance_dev', group='clearance_admin')"
   ]
  },
  {
   "cell_type": "code",
   "execution_count": 8,
   "id": "0fccc818-4815-4595-a44f-14017acc09e5",
   "metadata": {},
   "outputs": [],
   "source": [
    "group_policies()"
   ]
  },
  {
   "cell_type": "code",
   "execution_count": 9,
   "id": "c44b4ecc-3f3f-4022-b99d-2bc82807aeb1",
   "metadata": {},
   "outputs": [],
   "source": [
    "user_policies()"
   ]
  },
  {
   "cell_type": "code",
   "execution_count": 6,
   "id": "a9d63959-e84a-4dcd-aa11-22def2c24942",
   "metadata": {},
   "outputs": [
    {
     "data": {
      "text/plain": [
       "[['clearance_admin', 'clearance', 'read'],\n",
       " ['clearance_admin', 'clearance', 'write'],\n",
       " ['clearance_dev', 'clearance', 'assume']]"
      ]
     },
     "execution_count": 6,
     "metadata": {},
     "output_type": "execute_result"
    }
   ],
   "source": [
    "e.get_implicit_permissions_for_user('jmgibso3')"
   ]
  },
  {
   "cell_type": "code",
   "execution_count": 7,
   "id": "1230b570-d9e4-4513-8449-e2138256d2f4",
   "metadata": {},
   "outputs": [
    {
     "data": {
      "text/plain": [
       "['clearance_liaison']"
      ]
     },
     "execution_count": 7,
     "metadata": {},
     "output_type": "execute_result"
    }
   ],
   "source": [
    "e.get_roles_for_user('jtchampi')"
   ]
  },
  {
   "cell_type": "code",
   "execution_count": 8,
   "id": "17dbfafb-7fda-49ac-9253-8ffa0850d48f",
   "metadata": {},
   "outputs": [
    {
     "data": {
      "text/plain": [
       "[['clearance_liaison', 'clearance', 'read']]"
      ]
     },
     "execution_count": 8,
     "metadata": {},
     "output_type": "execute_result"
    }
   ],
   "source": [
    "e.get_implicit_permissions_for_user('jtchampi')"
   ]
  },
  {
   "cell_type": "code",
   "execution_count": 40,
   "id": "b14b3566-70c6-439b-90da-ef17c45ed539",
   "metadata": {},
   "outputs": [
    {
     "name": "stderr",
     "output_type": "stream",
     "text": [
      "2024-04-08 10:15:25,196 Request: jtchampi, clearance, assume ---> True\n"
     ]
    },
    {
     "data": {
      "text/plain": [
       "True"
      ]
     },
     "execution_count": 40,
     "metadata": {},
     "output_type": "execute_result"
    }
   ],
   "source": [
    "e.enforce('jtchampi', 'clearance', 'assume')"
   ]
  },
  {
   "cell_type": "code",
   "execution_count": 41,
   "id": "8f75323f-efc7-4fde-88cf-162b009541a6",
   "metadata": {},
   "outputs": [
    {
     "data": {
      "text/plain": [
       "[['clearance_admin', 'clearance', 'read'],\n",
       " ['clearance_admin', 'clearance', 'write']]"
      ]
     },
     "execution_count": 41,
     "metadata": {},
     "output_type": "execute_result"
    }
   ],
   "source": [
    "e.get_implicit_permissions_for_user('dgreen')"
   ]
  },
  {
   "cell_type": "code",
   "execution_count": 44,
   "id": "35f02392-54fb-4fbd-9e94-183ec36c39e2",
   "metadata": {},
   "outputs": [
    {
     "name": "stderr",
     "output_type": "stream",
     "text": [
      "2024-04-08 10:17:39,688 Request: dgreen, clearance, assume ---> False\n"
     ]
    },
    {
     "data": {
      "text/plain": [
       "False"
      ]
     },
     "execution_count": 44,
     "metadata": {},
     "output_type": "execute_result"
    }
   ],
   "source": [
    "e.enforce('dgreen', 'clearance', 'assume')"
   ]
  },
  {
   "cell_type": "markdown",
   "id": "8acf2d5d-a7eb-4467-ac69-fd8cff120774",
   "metadata": {},
   "source": [
    "# RBAC Model\n",
    "-------------\n",
    "[request_definition]\n",
    "r = sub, obj, act\n",
    "\n",
    "[policy_definition]\n",
    "p = sub, obj, act\n",
    "\n",
    "[role_definition]\n",
    "g = _, _\n",
    "\n",
    "[policy_effect]\n",
    "e = some(where (p.eft == allow))\n",
    "\n",
    "[matchers]\n",
    "m = g(r.sub, p.sub) && r.obj == p.obj && r.act == p.act\n",
    "\n",
    "-----------\n",
    "\n",
    "# Policy Examples\n",
    "-----------------\n",
    "\n",
    "p, alice, data1, read\n",
    "\n",
    "p, bob, data2, write\n",
    "\n",
    "p, data2_admin, data2, read\n",
    "\n",
    "p, data2_admin, data2, write\n",
    "\n",
    "g, alice, data2_admin\n",
    "\n",
    "----------------\n",
    "\n",
    "## In Words\n",
    "\n",
    "When creating RBAC policies there are two possibilities `p` and `g`. \n",
    "\n",
    "A `p` will always have an action (e.g. 'write', 'read', 'update', 'delete', 'give_raspberries')\n",
    "A `g` will always have a user or (maybe? another group) as the subject and a group as the object\n",
    "\n",
    "# Groups\n",
    "* owner\n",
    "* liaison\n",
    "  * liaison_authorizor\n",
    "  * liaison_requestor\n",
    "* cmt\n",
    "* automations\n",
    "\n",
    "## Policies\n",
    "* liaison_admin\n",
    "  * (p, liaison_admin, liaison, read)\n",
    "  * (p, liaison_admin, liaison, write)\n"
   ]
  },
  {
   "cell_type": "code",
   "execution_count": 8,
   "id": "64c1bf76-7686-48d2-8a29-a11ced84dbbb",
   "metadata": {},
   "outputs": [
    {
     "data": {
      "text/plain": [
       "[]"
      ]
     },
     "execution_count": 8,
     "metadata": {},
     "output_type": "execute_result"
    }
   ],
   "source": [
    "    "
   ]
  }
 ],
 "metadata": {
  "kernelspec": {
   "display_name": "Python 3 (ipykernel)",
   "language": "python",
   "name": "python3"
  },
  "language_info": {
   "codemirror_mode": {
    "name": "ipython",
    "version": 3
   },
   "file_extension": ".py",
   "mimetype": "text/x-python",
   "name": "python",
   "nbconvert_exporter": "python",
   "pygments_lexer": "ipython3",
   "version": "3.11.2"
  }
 },
 "nbformat": 4,
 "nbformat_minor": 5
}
